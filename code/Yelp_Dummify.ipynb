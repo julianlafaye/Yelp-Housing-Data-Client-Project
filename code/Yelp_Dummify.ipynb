{
  "cells": [
    {
      "cell_type": "code",
      "execution_count": null,
      "metadata": {},
      "outputs": [],
      "source": [
        "# %% Imports\n",
        "import pandas as pd\n",
        "import numpy as np"
      ]
    },
    {
      "cell_type": "code",
      "execution_count": null,
      "metadata": {},
      "outputs": [],
      "source": [
        "# %% Read CSV\n",
        "df = pd.read_csv('../data/yelp_income_gacities_clean.csv')\n",
        "\n",
        "# %% Dummify Each Category Column\n",
        "cat_1 = pd.get_dummies(df['category_1'])\n",
        "cat_2 = pd.get_dummies(df['category_2'])\n",
        "cat_3 = pd.get_dummies(df['category_3'])\n",
        "# And Send It to List\n",
        "cat_df_list = [cat_1,cat_2,cat_3]\n",
        "\n",
        "\n",
        "# %% Concat All Categories as a multi level dataframe\n",
        "BDF = pd.concat(cat_df_list ,keys= ['category_1', 'category_2', 'category_3'],axis=1)\n",
        "# Then Groupyby second level and sum\n",
        "cat_dummies = BDF.groupby(level=1, axis=1).sum()\n",
        "\n",
        "## Category counts if you're interested\n",
        "# cat_counts = cat_dummies.sum().sort_values()\n",
        "\n",
        "# %% Drop Categories from Original Dataframe\n",
        "df_no_cat = df.drop(['category_1', 'category_2', 'category_3'],axis=1)\n",
        "# Then merge\n",
        "df_all_dummies = pd.merge(left=df_no_cat, right=cat_dummies, how='outer', left_index=True, right_index=True)\n",
        "\n",
        "# %% To CSV\n",
        "df_all_dummies.to_csv('../data/yelp_income_gacities_clean_with_dummies.csv')"
      ]
    }
  ],
  "metadata": {
    "anaconda-cloud": {},
    "kernelspec": {
      "display_name": "Python 3",
      "language": "python",
      "name": "python3"
    },
    "language_info": {
      "codemirror_mode": {
        "name": "ipython",
        "version": 3
      },
      "file_extension": ".py",
      "mimetype": "text/x-python",
      "name": "python",
      "nbconvert_exporter": "python",
      "pygments_lexer": "ipython3",
      "version": "3.6.1"
    }
  },
  "nbformat": 4,
  "nbformat_minor": 1
}