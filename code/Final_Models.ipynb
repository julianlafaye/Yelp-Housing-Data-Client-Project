{
 "cells": [
  {
   "cell_type": "markdown",
   "execution_count": null,
   "metadata": {},
   "outputs": [],
   "source": [
    "## Final Model:"
   ]
  },
  {
   "cell_type": "code",
   "execution_count": null,
   "metadata": {},
   "outputs": [],
   "source": [
    "import pandas as pd\n",
    "import numpy as np\n",
    "import xgboost as xg\n",
    "from sklearn.svm import SVR\n",
    "from sklearn.preprocessing import PolynomialFeatures, MultiLabelBinarizer\n",
    "from sklearn.model_selection import train_test_split\n",
    "from sklearn.linear_model import LinearRegression, LassoCV, Lasso\n",
    "from sklearn.decomposition import PCA\n",
    "\n",
    "df = pd.read_csv('./yelp_income_gacities_clean.csv')\n",
    "\n",
    "df2 = df_full.drop(['state'], axis=1)\n",
    "\n",
    "df2\n",
    "\n",
    "df3 = pd.merge(left=df2, right=pd.get_dummies(df2['city']), how='outer', left_index=True, right_index=True).drop('city', axis=1)\n",
    "\n",
    "df_ct = df3.groupby('zip_code').mean()\n",
    "\n",
    "df_no_ct = df2.groupby('zip_code').mean()\n",
    "\n",
    "## Start with no city tags:\n",
    "\n",
    "df_no_ct\n",
    "\n",
    "X_train, X_test, y_train, y_test = train_test_split(df_no_ct.drop('median_income_usd', axis=1), df_no_ct['median_income_usd'], random_state=32)\n",
    "\n",
    "las = Lasso(alpha=300)\n",
    "\n",
    "las.fit(X_train, y_train)\n",
    "las.score(X_test, y_test)\n",
    "\n",
    "xgb = xg.XGBRegressor()\n",
    "\n",
    "xgb.fit(X_train, y_train)\n",
    "xgb.score(X_test, y_test)\n",
    "\n",
    "pn = PolynomialFeatures()\n",
    "X = df_no_ct.drop('median_income_usd', axis=1)\n",
    "y= df_no_ct['median_income_usd']\n",
    "\n",
    "pn.fit_transform(X)\n",
    "\n",
    "Z_train, Z_test, y_train, y_test = train_test_split(X, y)\n",
    "\n",
    "las2 = LassoCV()\n",
    "las2.fit(Z_train, y_train)\n",
    "las2.score(Z_test, y_test)\n",
    "las2.alpha_\n",
    "\n",
    "las3 = Lasso(alpha= 940)\n",
    "las3.fit(Z_train, y_train)\n",
    "las3.score(Z_test, y_test)\n",
    "\n",
    "xgb2 = xg.XGBRegressor(booster= 'dart',n_estimators=700, n_parallel_tree=4, n_jobs=-4)\n",
    "\n",
    "xgb2.fit(Z_train, y_train)\n",
    "xgb2.score(Z_test, y_test)\n",
    "\n",
    "## With City Tags:\n",
    "\n",
    "\n",
    "X_train, X_test, y_train, y_test = train_test_split(df_ct.drop('median_income_usd', axis=1), df_ct['median_income_usd'], random_state=42)\n",
    "\n",
    "las = Lasso(alpha=6000)\n",
    "\n",
    "las.fit(X_train, y_train)\n",
    "las.score(X_test, y_test)\n",
    "\n",
    "pn = PolynomialFeatures()\n",
    "X = df_ct.drop('median_income_usd', axis=1)\n",
    "y= df_ct['median_income_usd']\n",
    "\n",
    "pn.fit_transform(X)\n",
    "\n",
    "Z_train, Z_test, y_train, y_test = train_test_split(X, y, random_state=12)\n",
    "\n",
    "\n"
   ]
  },
  {
   "cell_type": "code",
   "execution_count": null,
   "metadata": {},
   "outputs": [],
   "source": [
    "las3 = LassoCV()\n",
    "las3.fit(Z_train, y_train)"
   ]
  },
  {
   "cell_type": "code",
   "execution_count": null,
   "metadata": {},
   "outputs": [],
   "source": [
    "las3.score(Z_test, y_test)"
   ]
  },
  {
   "cell_type": "code",
   "execution_count": null,
   "metadata": {},
   "outputs": [],
   "source": [
    "las4 = Lasso(alpha=400)\n",
    "las4.fit(Z_train, y_train)\n",
    "las4.score(Z_test, y_test)"
   ]
  },
  {
   "cell_type": "code",
   "execution_count": null,
   "metadata": {},
   "outputs": [],
   "source": [
    "scoring = pd.DataFrame([Z_train.columns, las4.coef_])"
   ]
  },
  {
   "cell_type": "code",
   "execution_count": null,
   "metadata": {},
   "outputs": [],
   "source": [
    "scores = scoring.T"
   ]
  },
  {
   "cell_type": "code",
   "execution_count": null,
   "metadata": {},
   "outputs": [],
   "source": [
    "coefs = scores.set_index(scores[0]).drop(0, axis=1)"
   ]
  },
  {
   "cell_type": "code",
   "execution_count": null,
   "metadata": {},
   "outputs": [],
   "source": [
    "coefs = coefs[coefs[1]!=0].sort_values(by= 1)"
   ]
  },
  {
   "cell_type": "code",
   "execution_count": null,
   "metadata": {},
   "outputs": [],
   "source": [
    "import matplotlib.pyplot as plt\n",
    "plt.barh(coefs.index, coefs[1])\n",
    "plt.yticks(coefs.index, coefs.index)\n",
    "plt.title('Coeficients used in Lasso')"
   ]
  }
 ],
 "metadata": {
  "kernelspec": {
   "display_name": "Python 3",
   "language": "python",
   "name": "python3"
  },
  "language_info": {
   "codemirror_mode": {
    "name": "ipython",
    "version": 3
   },
   "file_extension": ".py",
   "mimetype": "text/x-python",
   "name": "python",
   "nbconvert_exporter": "python",
   "pygments_lexer": "ipython3",
   "version": "3.7.6"
  }
 },
 "nbformat": 4,
 "nbformat_minor": 4
}