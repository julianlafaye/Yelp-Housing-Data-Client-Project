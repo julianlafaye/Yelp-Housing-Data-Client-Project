{
 "cells": [
  {
   "cell_type": "markdown",
   "metadata": {},
   "source": [
    "# Collecting Median Household Income Data"
   ]
  },
  {
   "cell_type": "markdown",
   "metadata": {},
   "source": [
    "## Imports"
   ]
  },
  {
   "cell_type": "code",
   "execution_count": 1,
   "metadata": {},
   "outputs": [],
   "source": [
    "import pandas as pd\n",
    "import requests\n",
    "from bs4 import BeautifulSoup\n",
    "import time\n",
    "import numpy as np"
   ]
  },
  {
   "cell_type": "markdown",
   "metadata": {},
   "source": [
    "## List of Zip Codes:"
   ]
  },
  {
   "cell_type": "code",
   "execution_count": 2,
   "metadata": {},
   "outputs": [
    {
     "data": {
      "text/plain": [
       "77"
      ]
     },
     "execution_count": 2,
     "metadata": {},
     "output_type": "execute_result"
    }
   ],
   "source": [
    "# zip codes in these five Georgia cities:\n",
    "       # Atlanta, Athens, Augusta, Macon, and Savannah\n",
    "# https://statisticalatlas.com/place/Georgia/Atlanta/Overview\n",
    "\n",
    "zip_list = [30030, 30032, 30126, 30303, 30305, 30306, 30307, 30308, 30309, 30310, 30311, 30312, 30313,\n",
    "            30314, 30315, 30316, 30317, 30318, 30319, 30324, 30326, 30327, 30331, 30342, 30344, 30354,\n",
    "            30363, 30601, 30605, 30606, 30607, 30622, 30646, 30683, 30805, 30808, 30813, 30815, 30818,\n",
    "            30901, 30904, 30905, 30906, 30907, 30909, 31020, 31052, 31066, 31201, 31204, 31206, 31210,\n",
    "            31211, 31216, 31217, 31220, 31302, 31322, 31401, 31404, 31405, 31406, 31407, 31408, 31415,\n",
    "            31419, 31801, 31808, 31820, 31829, 31901, 31903, 31904, 31905, 31906, 31907, 31909]\n",
    "len(zip_list)"
   ]
  },
  {
   "cell_type": "markdown",
   "metadata": {},
   "source": [
    "## Scrape:"
   ]
  },
  {
   "cell_type": "code",
   "execution_count": 3,
   "metadata": {},
   "outputs": [],
   "source": [
    "# creating a scraping function:\n",
    "def scraper(ziplist):\n",
    "\n",
    "    median_incomes = []\n",
    "    \n",
    "    for each in ziplist:\n",
    "        url = f'https://statisticalatlas.com/zip/{each}/Household-Income' # individual pages for each zip code\n",
    "        res = requests.get(url)\n",
    "        soup = BeautifulSoup(res.content, 'html.parser')                  # BeautifulSoup using 'html.parser'\n",
    "        median_income = soup.find_all('g')[16].text                       # indexing on the 17th instance of 'g'\n",
    "        median_income = median_income.split('.')[0]                       # formatting/indexing the returned string\n",
    "        median_income = median_income.replace('$', '')                    # removing the '$'\n",
    "        median_income = int(median_income.replace(',', ''))               # removing the ','\n",
    "        zip_dict = {}                                                     # creating a dictionary with:\n",
    "        zip_dict['zip_code'] = each                                          #   key: zip code\n",
    "        zip_dict['median_income_usd'] = median_income                        # value: median household income\n",
    "        median_incomes.append(zip_dict) \n",
    "        \n",
    "    return median_incomes"
   ]
  },
  {
   "cell_type": "code",
   "execution_count": 4,
   "metadata": {},
   "outputs": [],
   "source": [
    "x = scraper(zip_list) # running the scraper on the zip codes"
   ]
  },
  {
   "cell_type": "code",
   "execution_count": 5,
   "metadata": {},
   "outputs": [],
   "source": [
    "# creating a single dictionary for an errant zip code returned by the function\n",
    "# this page was formatted differently than the others\n",
    "# the pertinent information was indexed on the 'g'[15]\n",
    "\n",
    "single_dict = {'zip_code': 30336,\n",
    "               'median_income_usd': 25958}"
   ]
  },
  {
   "cell_type": "code",
   "execution_count": 6,
   "metadata": {},
   "outputs": [],
   "source": [
    "# appending the single dictionary to the returned dictionary\n",
    "x.append(single_dict)"
   ]
  },
  {
   "cell_type": "markdown",
   "metadata": {},
   "source": [
    "## Creating a dataframe:"
   ]
  },
  {
   "cell_type": "code",
   "execution_count": 7,
   "metadata": {},
   "outputs": [],
   "source": [
    "df = pd.DataFrame(x)"
   ]
  },
  {
   "cell_type": "code",
   "execution_count": 8,
   "metadata": {},
   "outputs": [
    {
     "data": {
      "text/html": [
       "<div>\n",
       "<style scoped>\n",
       "    .dataframe tbody tr th:only-of-type {\n",
       "        vertical-align: middle;\n",
       "    }\n",
       "\n",
       "    .dataframe tbody tr th {\n",
       "        vertical-align: top;\n",
       "    }\n",
       "\n",
       "    .dataframe thead th {\n",
       "        text-align: right;\n",
       "    }\n",
       "</style>\n",
       "<table border=\"1\" class=\"dataframe\">\n",
       "  <thead>\n",
       "    <tr style=\"text-align: right;\">\n",
       "      <th></th>\n",
       "      <th>zip_code</th>\n",
       "      <th>median_income_usd</th>\n",
       "    </tr>\n",
       "  </thead>\n",
       "  <tbody>\n",
       "    <tr>\n",
       "      <th>0</th>\n",
       "      <td>30030</td>\n",
       "      <td>70666</td>\n",
       "    </tr>\n",
       "    <tr>\n",
       "      <th>1</th>\n",
       "      <td>30032</td>\n",
       "      <td>35117</td>\n",
       "    </tr>\n",
       "    <tr>\n",
       "      <th>2</th>\n",
       "      <td>30126</td>\n",
       "      <td>66596</td>\n",
       "    </tr>\n",
       "    <tr>\n",
       "      <th>3</th>\n",
       "      <td>30303</td>\n",
       "      <td>19883</td>\n",
       "    </tr>\n",
       "    <tr>\n",
       "      <th>4</th>\n",
       "      <td>30305</td>\n",
       "      <td>87516</td>\n",
       "    </tr>\n",
       "  </tbody>\n",
       "</table>\n",
       "</div>"
      ],
      "text/plain": [
       "   zip_code  median_income_usd\n",
       "0     30030              70666\n",
       "1     30032              35117\n",
       "2     30126              66596\n",
       "3     30303              19883\n",
       "4     30305              87516"
      ]
     },
     "execution_count": 8,
     "metadata": {},
     "output_type": "execute_result"
    }
   ],
   "source": [
    "df.head()"
   ]
  },
  {
   "cell_type": "code",
   "execution_count": 9,
   "metadata": {},
   "outputs": [
    {
     "data": {
      "text/plain": [
       "(78, 2)"
      ]
     },
     "execution_count": 9,
     "metadata": {},
     "output_type": "execute_result"
    }
   ],
   "source": [
    "df.shape"
   ]
  },
  {
   "cell_type": "code",
   "execution_count": 1,
   "metadata": {},
   "outputs": [
    {
     "ename": "NameError",
     "evalue": "name 'df' is not defined",
     "output_type": "error",
     "traceback": [
      "\u001b[1;31m---------------------------------------------------------------------------\u001b[0m",
      "\u001b[1;31mNameError\u001b[0m                                 Traceback (most recent call last)",
      "\u001b[1;32m<ipython-input-1-563beb90c9e3>\u001b[0m in \u001b[0;36m<module>\u001b[1;34m\u001b[0m\n\u001b[1;32m----> 1\u001b[1;33m \u001b[0mdf\u001b[0m\u001b[1;33m.\u001b[0m\u001b[0mto_csv\u001b[0m\u001b[1;33m(\u001b[0m\u001b[1;34m'./data/zips_list.csv'\u001b[0m\u001b[1;33m)\u001b[0m\u001b[1;33m\u001b[0m\u001b[1;33m\u001b[0m\u001b[0m\n\u001b[0m",
      "\u001b[1;31mNameError\u001b[0m: name 'df' is not defined"
     ]
    }
   ],
   "source": [
    "df.to_csv('../data/zips_income_list.csv', index= False)"
   ]
  },
  {
   "cell_type": "markdown",
   "metadata": {},
   "source": [
    "## Notes:\n",
    "The following zip codes have no reported median household incomes <br>\n",
    "We believe this is due to the fact that these tracts are owned by the cities, federal gov't, and universities."
   ]
  },
  {
   "cell_type": "markdown",
   "metadata": {},
   "source": [
    "### Atlanta:"
   ]
  },
  {
   "cell_type": "markdown",
   "metadata": {},
   "source": [
    "#### 30332\n",
    "This zip code is made up of land owned by Georgia State University.\n",
    "\n",
    "![](./assets/imgs/gsu_property.png)"
   ]
  },
  {
   "cell_type": "markdown",
   "metadata": {},
   "source": [
    "#### 30334\n",
    "This zip code is made up of land owned by the City of Atlanta and Georgia Tech University.\n",
    "\n",
    "![](./assets/imgs/gatech_and_city_property.png)"
   ]
  },
  {
   "cell_type": "markdown",
   "metadata": {},
   "source": [
    "### Athens:"
   ]
  },
  {
   "cell_type": "markdown",
   "metadata": {},
   "source": [
    "#### 30602\n",
    "This zip code is made up of land owned by the University of Georgia.\n",
    "\n",
    "![](./assets/imgs/athens.png)"
   ]
  },
  {
   "cell_type": "markdown",
   "metadata": {},
   "source": [
    "#### 30609\n",
    "This zip code is made up of land owned by the University of Georgia.\n",
    "\n",
    "![](./assets/imgs/athensstadium.png)"
   ]
  },
  {
   "cell_type": "markdown",
   "metadata": {},
   "source": [
    "### Augusta:"
   ]
  },
  {
   "cell_type": "markdown",
   "metadata": {},
   "source": [
    "#### 30812\n",
    "This zip code is made up of land inside a small neighborhood in southern Augusta.\n",
    "\n",
    "![](./assets/imgs/northview.png)"
   ]
  },
  {
   "cell_type": "markdown",
   "metadata": {},
   "source": [
    "#### 30912\n",
    "This zip code is unique to the Augusta Hospital System.\n",
    "\n",
    "![](./assets/imgs/augustahospital.png)"
   ]
  },
  {
   "cell_type": "markdown",
   "metadata": {},
   "source": [
    "### Macon:"
   ]
  },
  {
   "cell_type": "markdown",
   "metadata": {},
   "source": [
    "#### 31207\n",
    "\n",
    "This zip code is unique to Mercer University.\n",
    "\n",
    "![](./assets/imgs/mercer.png)"
   ]
  },
  {
   "cell_type": "markdown",
   "metadata": {},
   "source": [
    "#### 31213\n",
    "\n",
    "This zip code is unique to a post office in Macon.\n",
    "\n",
    "![](./assets/imgs/maconusps.png)"
   ]
  },
  {
   "cell_type": "markdown",
   "metadata": {},
   "source": [
    "### Savannah:"
   ]
  },
  {
   "cell_type": "markdown",
   "metadata": {},
   "source": [
    "#### 31409\n",
    "\n",
    "This zip code is unique to a Hunter Army Airfield in Savannah.\n",
    "\n",
    "![](./assets/imgs/hunterarmyairfield.png)"
   ]
  }
 ],
 "metadata": {
  "kernelspec": {
   "display_name": "Python 3",
   "language": "python",
   "name": "python3"
  },
  "language_info": {
   "codemirror_mode": {
    "name": "ipython",
    "version": 3
   },
   "file_extension": ".py",
   "mimetype": "text/x-python",
   "name": "python",
   "nbconvert_exporter": "python",
   "pygments_lexer": "ipython3",
   "version": "3.7.6-final"
  }
 },
 "nbformat": 4,
 "nbformat_minor": 4
}